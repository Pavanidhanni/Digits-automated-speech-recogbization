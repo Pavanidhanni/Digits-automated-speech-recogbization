{
 "cells": [
  {
   "cell_type": "code",
   "execution_count": 1,
   "id": "2e59366f",
   "metadata": {},
   "outputs": [
    {
     "name": "stdout",
     "output_type": "stream",
     "text": [
      "Requirement already satisfied: pyaudio in c:\\users\\shivani\\anaconda3\\lib\\site-packages (0.2.12)\n",
      "Note: you may need to restart the kernel to use updated packages.\n"
     ]
    }
   ],
   "source": [
    "pip install pyaudio"
   ]
  },
  {
   "cell_type": "code",
   "execution_count": 2,
   "id": "bf1c23d0",
   "metadata": {},
   "outputs": [
    {
     "name": "stdout",
     "output_type": "stream",
     "text": [
      "Collecting speechrecognition\n",
      "  Downloading SpeechRecognition-3.9.0-py2.py3-none-any.whl (32.8 MB)\n",
      "Requirement already satisfied: requests>=2.26.0 in c:\\users\\shivani\\anaconda3\\lib\\site-packages (from speechrecognition) (2.28.1)\n",
      "Requirement already satisfied: certifi>=2017.4.17 in c:\\users\\shivani\\anaconda3\\lib\\site-packages (from requests>=2.26.0->speechrecognition) (2020.12.5)\n",
      "Requirement already satisfied: idna<4,>=2.5 in c:\\users\\shivani\\anaconda3\\lib\\site-packages (from requests>=2.26.0->speechrecognition) (2.10)\n",
      "Requirement already satisfied: urllib3<1.27,>=1.21.1 in c:\\users\\shivani\\anaconda3\\lib\\site-packages (from requests>=2.26.0->speechrecognition) (1.26.4)\n",
      "Requirement already satisfied: charset-normalizer<3,>=2 in c:\\users\\shivani\\anaconda3\\lib\\site-packages (from requests>=2.26.0->speechrecognition) (2.1.1)\n",
      "Installing collected packages: speechrecognition\n",
      "Successfully installed speechrecognition-3.9.0\n",
      "Note: you may need to restart the kernel to use updated packages.\n"
     ]
    }
   ],
   "source": [
    "pip install speechrecognition"
   ]
  },
  {
   "cell_type": "code",
   "execution_count": 3,
   "id": "150861e3",
   "metadata": {},
   "outputs": [
    {
     "name": "stdout",
     "output_type": "stream",
     "text": [
      "Collecting pydub\n",
      "  Downloading pydub-0.25.1-py2.py3-none-any.whl (32 kB)\n",
      "Installing collected packages: pydub\n",
      "Successfully installed pydub-0.25.1\n",
      "Note: you may need to restart the kernel to use updated packages.\n"
     ]
    }
   ],
   "source": [
    "pip install pydub"
   ]
  },
  {
   "cell_type": "code",
   "execution_count": null,
   "id": "d66f0ec8",
   "metadata": {},
   "outputs": [
    {
     "name": "stdout",
     "output_type": "stream",
     "text": [
      "result2:\n",
      "{   'alternative': [   {   'confidence': 0.80566108,\n",
      "                           'transcript': 'hi this is pawani'},\n",
      "                       {'transcript': 'hi this is Pavani'},\n",
      "                       {'transcript': 'hi this is paavani'},\n",
      "                       {'transcript': 'hi this is Pavan e'},\n",
      "                       {'transcript': 'hi this is Pavan II'}],\n",
      "    'final': True}\n",
      "You said  hi this is pawani\n",
      "result2:\n",
      "{   'alternative': [   {   'confidence': 0.92995489,\n",
      "                           'transcript': 'hi how are you'},\n",
      "                       {'transcript': 'hi how r u'},\n",
      "                       {'transcript': 'hai how are you'},\n",
      "                       {'transcript': 'hi hi how are you'},\n",
      "                       {'transcript': 'hai how r u'}],\n",
      "    'final': True}\n",
      "You said  hi how are you\n",
      "result2:\n",
      "[]\n",
      "unknown error occurred\n",
      "result2:\n",
      "[]\n",
      "unknown error occurred\n",
      "result2:\n",
      "[]\n",
      "unknown error occurred\n",
      "result2:\n",
      "[]\n",
      "unknown error occurred\n",
      "result2:\n",
      "[]\n",
      "unknown error occurred\n"
     ]
    }
   ],
   "source": [
    "#importing requried libraries\n",
    "import speech_recognition as sr\n",
    "import pyttsx3\n",
    "\n",
    "\n",
    "r = sr.Recognizer()\n",
    "\n",
    "\n",
    "def SpeakText(command):\n",
    "    engine = pyttsx3.init()\n",
    "    engine.say(command)\n",
    "    engine.runAndWait()\n",
    "\n",
    "while(1):\n",
    "\n",
    "    try:\n",
    "    # use the microphone as source for input.\n",
    "        with sr.Microphone() as source2:\n",
    "            # waiting time is 1sec for recognizer to adjust the energy threshold based on the surrounding noise level\n",
    "        \n",
    "            r.adjust_for_ambient_noise(source2, duration=0.2)\n",
    "            #listens for the user's input\n",
    "            audio2 = r.listen(source2)\n",
    "           \n",
    "            \n",
    "            # Using google to recognize audio\n",
    "            MyText = r.recognize_google(audio2)\n",
    "            MyText = MyText.lower()\n",
    "            \n",
    "            #Printing what we said\n",
    "            print(\"You said \",MyText)\n",
    "            SpeakText(MyText)\n",
    "            \n",
    "    #exceptions handling to handle exceptions at the runtime      \n",
    "    except sr.RequestError as e:\n",
    "        print(\"Could not request results; {0}\".format(e))\n",
    "    except sr.UnknownValueError:\n",
    "        print(\"unknown error occurred\")\n"
   ]
  },
  {
   "cell_type": "code",
   "execution_count": null,
   "id": "43cadcae",
   "metadata": {},
   "outputs": [],
   "source": []
  },
  {
   "cell_type": "code",
   "execution_count": null,
   "id": "566fad92",
   "metadata": {},
   "outputs": [],
   "source": []
  },
  {
   "cell_type": "code",
   "execution_count": null,
   "id": "45b0bb29",
   "metadata": {},
   "outputs": [],
   "source": []
  }
 ],
 "metadata": {
  "kernelspec": {
   "display_name": "Python 3",
   "language": "python",
   "name": "python3"
  },
  "language_info": {
   "codemirror_mode": {
    "name": "ipython",
    "version": 3
   },
   "file_extension": ".py",
   "mimetype": "text/x-python",
   "name": "python",
   "nbconvert_exporter": "python",
   "pygments_lexer": "ipython3",
   "version": "3.8.8"
  }
 },
 "nbformat": 4,
 "nbformat_minor": 5
}
